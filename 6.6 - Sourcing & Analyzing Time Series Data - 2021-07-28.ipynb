{
 "cells": [
  {
   "cell_type": "markdown",
   "metadata": {},
   "source": [
    "# Contents\n",
    "## 0) Import Modules & Data\n",
    "## 1) Clean, Wrangle, & Subset\n",
    "## 2) Smoothing It\n",
    "## 3) Identify Components of Time Series\n",
    "### _- A) Trend_\n",
    "### _- B) Seasonality_\n",
    "### _- C) Cycle_\n",
    "### _- D) Noise_\n",
    "## 4) Decomposition\n",
    "## 7) Analyze Stationarity\n",
    "## 8) Autocorrelation\n",
    "## 9) Stationarize Data\n",
    "## Appendix - Case Study Notes"
   ]
  },
  {
   "cell_type": "markdown",
   "metadata": {},
   "source": [
    "# 0) Import Modules & Data"
   ]
  },
  {
   "cell_type": "code",
   "execution_count": 1,
   "metadata": {},
   "outputs": [
    {
     "data": {
      "text/plain": [
       "<function matplotlib.style.core.use(style)>"
      ]
     },
     "execution_count": 1,
     "metadata": {},
     "output_type": "execute_result"
    }
   ],
   "source": [
    "import pandas as pd\n",
    "import numpy as np\n",
    "import seaborn as sns\n",
    "import matplotlib\n",
    "import matplotlib.pyplot as plt\n",
    "import statsmodels.api as sm\n",
    "import warnings\n",
    "\n",
    "warnings.filterwarnings(\"ignore\")\n",
    "\n",
    "plt.style.use"
   ]
  },
  {
   "cell_type": "code",
   "execution_count": 2,
   "metadata": {},
   "outputs": [],
   "source": [
    "df=pd.read_csv('/Users/sjpeterson76/Desktop/CareerFoundry/Data Immersion/Achievement 6/Seismic Data Project/02 Data/Prepared Data/2021-07-24 - cluster_df.csv')"
   ]
  },
  {
   "cell_type": "code",
   "execution_count": 3,
   "metadata": {
    "scrolled": true
   },
   "outputs": [
    {
     "data": {
      "text/html": [
       "<div>\n",
       "<style scoped>\n",
       "    .dataframe tbody tr th:only-of-type {\n",
       "        vertical-align: middle;\n",
       "    }\n",
       "\n",
       "    .dataframe tbody tr th {\n",
       "        vertical-align: top;\n",
       "    }\n",
       "\n",
       "    .dataframe thead th {\n",
       "        text-align: right;\n",
       "    }\n",
       "</style>\n",
       "<table border=\"1\" class=\"dataframe\">\n",
       "  <thead>\n",
       "    <tr style=\"text-align: right;\">\n",
       "      <th></th>\n",
       "      <th>Unnamed: 0</th>\n",
       "      <th>date</th>\n",
       "      <th>time</th>\n",
       "      <th>lat</th>\n",
       "      <th>long</th>\n",
       "      <th>type</th>\n",
       "      <th>depth</th>\n",
       "      <th>mag</th>\n",
       "      <th>mag_type</th>\n",
       "      <th>rms</th>\n",
       "      <th>id</th>\n",
       "      <th>source</th>\n",
       "      <th>status</th>\n",
       "      <th>reg_flag</th>\n",
       "      <th>clust_color</th>\n",
       "    </tr>\n",
       "  </thead>\n",
       "  <tbody>\n",
       "    <tr>\n",
       "      <th>0</th>\n",
       "      <td>0</td>\n",
       "      <td>01/02/1965</td>\n",
       "      <td>13:44:18</td>\n",
       "      <td>19.246</td>\n",
       "      <td>145.616</td>\n",
       "      <td>Earthquake</td>\n",
       "      <td>131.6</td>\n",
       "      <td>6.0</td>\n",
       "      <td>MW</td>\n",
       "      <td>NaN</td>\n",
       "      <td>ISCGEM860706</td>\n",
       "      <td>ISCGEM</td>\n",
       "      <td>Automatic</td>\n",
       "      <td>reg_2</td>\n",
       "      <td>pink</td>\n",
       "    </tr>\n",
       "    <tr>\n",
       "      <th>1</th>\n",
       "      <td>1</td>\n",
       "      <td>01/04/1965</td>\n",
       "      <td>11:29:49</td>\n",
       "      <td>1.863</td>\n",
       "      <td>127.352</td>\n",
       "      <td>Earthquake</td>\n",
       "      <td>80.0</td>\n",
       "      <td>5.8</td>\n",
       "      <td>MW</td>\n",
       "      <td>NaN</td>\n",
       "      <td>ISCGEM860737</td>\n",
       "      <td>ISCGEM</td>\n",
       "      <td>Automatic</td>\n",
       "      <td>reg_2</td>\n",
       "      <td>pink</td>\n",
       "    </tr>\n",
       "    <tr>\n",
       "      <th>2</th>\n",
       "      <td>2</td>\n",
       "      <td>01/05/1965</td>\n",
       "      <td>18:05:58</td>\n",
       "      <td>-20.579</td>\n",
       "      <td>-173.972</td>\n",
       "      <td>Earthquake</td>\n",
       "      <td>20.0</td>\n",
       "      <td>6.2</td>\n",
       "      <td>MW</td>\n",
       "      <td>NaN</td>\n",
       "      <td>ISCGEM860762</td>\n",
       "      <td>ISCGEM</td>\n",
       "      <td>Automatic</td>\n",
       "      <td>reg_2</td>\n",
       "      <td>purple</td>\n",
       "    </tr>\n",
       "    <tr>\n",
       "      <th>3</th>\n",
       "      <td>3</td>\n",
       "      <td>01/08/1965</td>\n",
       "      <td>18:49:43</td>\n",
       "      <td>-59.076</td>\n",
       "      <td>-23.557</td>\n",
       "      <td>Earthquake</td>\n",
       "      <td>15.0</td>\n",
       "      <td>5.8</td>\n",
       "      <td>MW</td>\n",
       "      <td>NaN</td>\n",
       "      <td>ISCGEM860856</td>\n",
       "      <td>ISCGEM</td>\n",
       "      <td>Automatic</td>\n",
       "      <td>reg_1</td>\n",
       "      <td>purple</td>\n",
       "    </tr>\n",
       "    <tr>\n",
       "      <th>4</th>\n",
       "      <td>4</td>\n",
       "      <td>01/09/1965</td>\n",
       "      <td>13:32:50</td>\n",
       "      <td>11.938</td>\n",
       "      <td>126.427</td>\n",
       "      <td>Earthquake</td>\n",
       "      <td>15.0</td>\n",
       "      <td>5.8</td>\n",
       "      <td>MW</td>\n",
       "      <td>NaN</td>\n",
       "      <td>ISCGEM860890</td>\n",
       "      <td>ISCGEM</td>\n",
       "      <td>Automatic</td>\n",
       "      <td>reg_2</td>\n",
       "      <td>pink</td>\n",
       "    </tr>\n",
       "  </tbody>\n",
       "</table>\n",
       "</div>"
      ],
      "text/plain": [
       "   Unnamed: 0        date      time     lat     long        type  depth  mag  \\\n",
       "0           0  01/02/1965  13:44:18  19.246  145.616  Earthquake  131.6  6.0   \n",
       "1           1  01/04/1965  11:29:49   1.863  127.352  Earthquake   80.0  5.8   \n",
       "2           2  01/05/1965  18:05:58 -20.579 -173.972  Earthquake   20.0  6.2   \n",
       "3           3  01/08/1965  18:49:43 -59.076  -23.557  Earthquake   15.0  5.8   \n",
       "4           4  01/09/1965  13:32:50  11.938  126.427  Earthquake   15.0  5.8   \n",
       "\n",
       "  mag_type  rms            id  source     status reg_flag clust_color  \n",
       "0       MW  NaN  ISCGEM860706  ISCGEM  Automatic    reg_2        pink  \n",
       "1       MW  NaN  ISCGEM860737  ISCGEM  Automatic    reg_2        pink  \n",
       "2       MW  NaN  ISCGEM860762  ISCGEM  Automatic    reg_2      purple  \n",
       "3       MW  NaN  ISCGEM860856  ISCGEM  Automatic    reg_1      purple  \n",
       "4       MW  NaN  ISCGEM860890  ISCGEM  Automatic    reg_2        pink  "
      ]
     },
     "execution_count": 3,
     "metadata": {},
     "output_type": "execute_result"
    }
   ],
   "source": [
    "df.head(5)"
   ]
  },
  {
   "cell_type": "code",
   "execution_count": 4,
   "metadata": {},
   "outputs": [
    {
     "data": {
      "text/plain": [
       "(23399, 15)"
      ]
     },
     "execution_count": 4,
     "metadata": {},
     "output_type": "execute_result"
    }
   ],
   "source": [
    "df.shape"
   ]
  },
  {
   "cell_type": "markdown",
   "metadata": {},
   "source": [
    "# 1) Clean, Wrangle, & Subset"
   ]
  },
  {
   "cell_type": "code",
   "execution_count": 5,
   "metadata": {},
   "outputs": [],
   "source": [
    "## Filter type='Earthquake'\n",
    "quake_df=df[df['type']=='Earthquake']"
   ]
  },
  {
   "cell_type": "code",
   "execution_count": 6,
   "metadata": {},
   "outputs": [
    {
     "data": {
      "text/plain": [
       "(23219, 15)"
      ]
     },
     "execution_count": 6,
     "metadata": {},
     "output_type": "execute_result"
    }
   ],
   "source": [
    "quake_df.shape"
   ]
  },
  {
   "cell_type": "code",
   "execution_count": 7,
   "metadata": {},
   "outputs": [
    {
     "data": {
      "text/plain": [
       "Index(['Unnamed: 0', 'date', 'time', 'lat', 'long', 'type', 'depth', 'mag',\n",
       "       'mag_type', 'rms', 'id', 'source', 'status', 'reg_flag', 'clust_color'],\n",
       "      dtype='object')"
      ]
     },
     "execution_count": 7,
     "metadata": {},
     "output_type": "execute_result"
    }
   ],
   "source": [
    "## Remove all columns except for date, depth, mag\n",
    "quake_df.columns"
   ]
  },
  {
   "cell_type": "code",
   "execution_count": 8,
   "metadata": {},
   "outputs": [],
   "source": [
    "del_cols=['Unnamed: 0', \n",
    "          'time', \n",
    "          'lat', \n",
    "          'long', \n",
    "          'type',\n",
    "          'mag_type', \n",
    "          'rms', \n",
    "          'id', \n",
    "          'source', \n",
    "          'status', \n",
    "          'reg_flag', \n",
    "          'clust_color']"
   ]
  },
  {
   "cell_type": "code",
   "execution_count": 9,
   "metadata": {},
   "outputs": [],
   "source": [
    "quake_df.drop(columns=del_cols,\n",
    "             inplace=True)"
   ]
  },
  {
   "cell_type": "code",
   "execution_count": 10,
   "metadata": {
    "scrolled": true
   },
   "outputs": [
    {
     "data": {
      "text/html": [
       "<div>\n",
       "<style scoped>\n",
       "    .dataframe tbody tr th:only-of-type {\n",
       "        vertical-align: middle;\n",
       "    }\n",
       "\n",
       "    .dataframe tbody tr th {\n",
       "        vertical-align: top;\n",
       "    }\n",
       "\n",
       "    .dataframe thead th {\n",
       "        text-align: right;\n",
       "    }\n",
       "</style>\n",
       "<table border=\"1\" class=\"dataframe\">\n",
       "  <thead>\n",
       "    <tr style=\"text-align: right;\">\n",
       "      <th></th>\n",
       "      <th>date</th>\n",
       "      <th>depth</th>\n",
       "      <th>mag</th>\n",
       "    </tr>\n",
       "  </thead>\n",
       "  <tbody>\n",
       "    <tr>\n",
       "      <th>0</th>\n",
       "      <td>01/02/1965</td>\n",
       "      <td>131.6</td>\n",
       "      <td>6.0</td>\n",
       "    </tr>\n",
       "    <tr>\n",
       "      <th>1</th>\n",
       "      <td>01/04/1965</td>\n",
       "      <td>80.0</td>\n",
       "      <td>5.8</td>\n",
       "    </tr>\n",
       "    <tr>\n",
       "      <th>2</th>\n",
       "      <td>01/05/1965</td>\n",
       "      <td>20.0</td>\n",
       "      <td>6.2</td>\n",
       "    </tr>\n",
       "    <tr>\n",
       "      <th>3</th>\n",
       "      <td>01/08/1965</td>\n",
       "      <td>15.0</td>\n",
       "      <td>5.8</td>\n",
       "    </tr>\n",
       "    <tr>\n",
       "      <th>4</th>\n",
       "      <td>01/09/1965</td>\n",
       "      <td>15.0</td>\n",
       "      <td>5.8</td>\n",
       "    </tr>\n",
       "  </tbody>\n",
       "</table>\n",
       "</div>"
      ],
      "text/plain": [
       "         date  depth  mag\n",
       "0  01/02/1965  131.6  6.0\n",
       "1  01/04/1965   80.0  5.8\n",
       "2  01/05/1965   20.0  6.2\n",
       "3  01/08/1965   15.0  5.8\n",
       "4  01/09/1965   15.0  5.8"
      ]
     },
     "execution_count": 10,
     "metadata": {},
     "output_type": "execute_result"
    }
   ],
   "source": [
    "quake_df.head(5)"
   ]
  },
  {
   "cell_type": "code",
   "execution_count": 11,
   "metadata": {},
   "outputs": [
    {
     "data": {
      "text/plain": [
       "date     0\n",
       "depth    0\n",
       "mag      0\n",
       "dtype: int64"
      ]
     },
     "execution_count": 11,
     "metadata": {},
     "output_type": "execute_result"
    }
   ],
   "source": [
    "## Check for missing values\n",
    "quake_df.isnull().sum()"
   ]
  },
  {
   "cell_type": "code",
   "execution_count": 12,
   "metadata": {
    "scrolled": true
   },
   "outputs": [
    {
     "data": {
      "text/plain": [
       "(23219, 3)"
      ]
     },
     "execution_count": 12,
     "metadata": {},
     "output_type": "execute_result"
    }
   ],
   "source": [
    "quake_df.shape"
   ]
  },
  {
   "cell_type": "code",
   "execution_count": 13,
   "metadata": {},
   "outputs": [],
   "source": [
    "# View duplicates\n",
    "\n",
    "dups=quake_df[quake_df.duplicated()]"
   ]
  },
  {
   "cell_type": "code",
   "execution_count": 14,
   "metadata": {
    "scrolled": true
   },
   "outputs": [
    {
     "data": {
      "text/html": [
       "<div>\n",
       "<style scoped>\n",
       "    .dataframe tbody tr th:only-of-type {\n",
       "        vertical-align: middle;\n",
       "    }\n",
       "\n",
       "    .dataframe tbody tr th {\n",
       "        vertical-align: top;\n",
       "    }\n",
       "\n",
       "    .dataframe thead th {\n",
       "        text-align: right;\n",
       "    }\n",
       "</style>\n",
       "<table border=\"1\" class=\"dataframe\">\n",
       "  <thead>\n",
       "    <tr style=\"text-align: right;\">\n",
       "      <th></th>\n",
       "      <th>date</th>\n",
       "      <th>depth</th>\n",
       "      <th>mag</th>\n",
       "    </tr>\n",
       "  </thead>\n",
       "  <tbody>\n",
       "    <tr>\n",
       "      <th>27</th>\n",
       "      <td>02/04/1965</td>\n",
       "      <td>20.0</td>\n",
       "      <td>5.6</td>\n",
       "    </tr>\n",
       "    <tr>\n",
       "      <th>29</th>\n",
       "      <td>02/04/1965</td>\n",
       "      <td>25.0</td>\n",
       "      <td>5.8</td>\n",
       "    </tr>\n",
       "    <tr>\n",
       "      <th>30</th>\n",
       "      <td>02/04/1965</td>\n",
       "      <td>25.0</td>\n",
       "      <td>5.8</td>\n",
       "    </tr>\n",
       "    <tr>\n",
       "      <th>32</th>\n",
       "      <td>02/04/1965</td>\n",
       "      <td>10.0</td>\n",
       "      <td>5.7</td>\n",
       "    </tr>\n",
       "    <tr>\n",
       "      <th>80</th>\n",
       "      <td>03/05/1965</td>\n",
       "      <td>35.0</td>\n",
       "      <td>5.6</td>\n",
       "    </tr>\n",
       "    <tr>\n",
       "      <th>...</th>\n",
       "      <td>...</td>\n",
       "      <td>...</td>\n",
       "      <td>...</td>\n",
       "    </tr>\n",
       "    <tr>\n",
       "      <th>22754</th>\n",
       "      <td>08/17/2015</td>\n",
       "      <td>10.0</td>\n",
       "      <td>5.7</td>\n",
       "    </tr>\n",
       "    <tr>\n",
       "      <th>22801</th>\n",
       "      <td>09/17/2015</td>\n",
       "      <td>10.0</td>\n",
       "      <td>5.9</td>\n",
       "    </tr>\n",
       "    <tr>\n",
       "      <th>22999</th>\n",
       "      <td>03/03/2016</td>\n",
       "      <td>10.0</td>\n",
       "      <td>5.6</td>\n",
       "    </tr>\n",
       "    <tr>\n",
       "      <th>23164</th>\n",
       "      <td>07/13/2016</td>\n",
       "      <td>10.0</td>\n",
       "      <td>5.9</td>\n",
       "    </tr>\n",
       "    <tr>\n",
       "      <th>23296</th>\n",
       "      <td>10/26/2016</td>\n",
       "      <td>10.0</td>\n",
       "      <td>6.1</td>\n",
       "    </tr>\n",
       "  </tbody>\n",
       "</table>\n",
       "<p>454 rows × 3 columns</p>\n",
       "</div>"
      ],
      "text/plain": [
       "             date  depth  mag\n",
       "27     02/04/1965   20.0  5.6\n",
       "29     02/04/1965   25.0  5.8\n",
       "30     02/04/1965   25.0  5.8\n",
       "32     02/04/1965   10.0  5.7\n",
       "80     03/05/1965   35.0  5.6\n",
       "...           ...    ...  ...\n",
       "22754  08/17/2015   10.0  5.7\n",
       "22801  09/17/2015   10.0  5.9\n",
       "22999  03/03/2016   10.0  5.6\n",
       "23164  07/13/2016   10.0  5.9\n",
       "23296  10/26/2016   10.0  6.1\n",
       "\n",
       "[454 rows x 3 columns]"
      ]
     },
     "execution_count": 14,
     "metadata": {},
     "output_type": "execute_result"
    }
   ],
   "source": [
    "dups"
   ]
  },
  {
   "cell_type": "code",
   "execution_count": 15,
   "metadata": {},
   "outputs": [],
   "source": [
    "quake_df=quake_df.drop_duplicates() # Remove duplicates"
   ]
  },
  {
   "cell_type": "code",
   "execution_count": 16,
   "metadata": {
    "scrolled": false
   },
   "outputs": [
    {
     "data": {
      "text/plain": [
       "(22765, 3)"
      ]
     },
     "execution_count": 16,
     "metadata": {},
     "output_type": "execute_result"
    }
   ],
   "source": [
    "quake_df.shape"
   ]
  },
  {
   "cell_type": "code",
   "execution_count": 17,
   "metadata": {},
   "outputs": [],
   "source": [
    "# Make a deep copy so if I make a mistake and need to go back, it won't reflect\n",
    "\n",
    "a_test=quake_df.copy(deep=True) "
   ]
  },
  {
   "cell_type": "code",
   "execution_count": 18,
   "metadata": {
    "scrolled": false
   },
   "outputs": [
    {
     "data": {
      "text/html": [
       "<div>\n",
       "<style scoped>\n",
       "    .dataframe tbody tr th:only-of-type {\n",
       "        vertical-align: middle;\n",
       "    }\n",
       "\n",
       "    .dataframe tbody tr th {\n",
       "        vertical-align: top;\n",
       "    }\n",
       "\n",
       "    .dataframe thead th {\n",
       "        text-align: right;\n",
       "    }\n",
       "</style>\n",
       "<table border=\"1\" class=\"dataframe\">\n",
       "  <thead>\n",
       "    <tr style=\"text-align: right;\">\n",
       "      <th></th>\n",
       "      <th>date</th>\n",
       "      <th>depth</th>\n",
       "      <th>mag</th>\n",
       "    </tr>\n",
       "  </thead>\n",
       "  <tbody>\n",
       "    <tr>\n",
       "      <th>0</th>\n",
       "      <td>01/02/1965</td>\n",
       "      <td>131.6</td>\n",
       "      <td>6.0</td>\n",
       "    </tr>\n",
       "    <tr>\n",
       "      <th>1</th>\n",
       "      <td>01/04/1965</td>\n",
       "      <td>80.0</td>\n",
       "      <td>5.8</td>\n",
       "    </tr>\n",
       "    <tr>\n",
       "      <th>2</th>\n",
       "      <td>01/05/1965</td>\n",
       "      <td>20.0</td>\n",
       "      <td>6.2</td>\n",
       "    </tr>\n",
       "    <tr>\n",
       "      <th>3</th>\n",
       "      <td>01/08/1965</td>\n",
       "      <td>15.0</td>\n",
       "      <td>5.8</td>\n",
       "    </tr>\n",
       "    <tr>\n",
       "      <th>4</th>\n",
       "      <td>01/09/1965</td>\n",
       "      <td>15.0</td>\n",
       "      <td>5.8</td>\n",
       "    </tr>\n",
       "  </tbody>\n",
       "</table>\n",
       "</div>"
      ],
      "text/plain": [
       "         date  depth  mag\n",
       "0  01/02/1965  131.6  6.0\n",
       "1  01/04/1965   80.0  5.8\n",
       "2  01/05/1965   20.0  6.2\n",
       "3  01/08/1965   15.0  5.8\n",
       "4  01/09/1965   15.0  5.8"
      ]
     },
     "execution_count": 18,
     "metadata": {},
     "output_type": "execute_result"
    }
   ],
   "source": [
    "a_test.head(5)"
   ]
  },
  {
   "cell_type": "code",
   "execution_count": 19,
   "metadata": {
    "scrolled": false
   },
   "outputs": [
    {
     "data": {
      "text/html": [
       "<div>\n",
       "<style scoped>\n",
       "    .dataframe tbody tr th:only-of-type {\n",
       "        vertical-align: middle;\n",
       "    }\n",
       "\n",
       "    .dataframe tbody tr th {\n",
       "        vertical-align: top;\n",
       "    }\n",
       "\n",
       "    .dataframe thead th {\n",
       "        text-align: right;\n",
       "    }\n",
       "</style>\n",
       "<table border=\"1\" class=\"dataframe\">\n",
       "  <thead>\n",
       "    <tr style=\"text-align: right;\">\n",
       "      <th></th>\n",
       "      <th>depth</th>\n",
       "      <th>mag</th>\n",
       "      <th>datetime</th>\n",
       "    </tr>\n",
       "  </thead>\n",
       "  <tbody>\n",
       "    <tr>\n",
       "      <th>0</th>\n",
       "      <td>131.6</td>\n",
       "      <td>6.0</td>\n",
       "      <td>1965-01-02</td>\n",
       "    </tr>\n",
       "    <tr>\n",
       "      <th>1</th>\n",
       "      <td>80.0</td>\n",
       "      <td>5.8</td>\n",
       "      <td>1965-01-04</td>\n",
       "    </tr>\n",
       "    <tr>\n",
       "      <th>2</th>\n",
       "      <td>20.0</td>\n",
       "      <td>6.2</td>\n",
       "      <td>1965-01-05</td>\n",
       "    </tr>\n",
       "    <tr>\n",
       "      <th>3</th>\n",
       "      <td>15.0</td>\n",
       "      <td>5.8</td>\n",
       "      <td>1965-01-08</td>\n",
       "    </tr>\n",
       "    <tr>\n",
       "      <th>4</th>\n",
       "      <td>15.0</td>\n",
       "      <td>5.8</td>\n",
       "      <td>1965-01-09</td>\n",
       "    </tr>\n",
       "  </tbody>\n",
       "</table>\n",
       "</div>"
      ],
      "text/plain": [
       "   depth  mag    datetime\n",
       "0  131.6  6.0  1965-01-02\n",
       "1   80.0  5.8  1965-01-04\n",
       "2   20.0  6.2  1965-01-05\n",
       "3   15.0  5.8  1965-01-08\n",
       "4   15.0  5.8  1965-01-09"
      ]
     },
     "execution_count": 19,
     "metadata": {},
     "output_type": "execute_result"
    }
   ],
   "source": [
    "## Change a_test['date'] to 'datetime' and set as index\n",
    "\n",
    "from datetime import datetime\n",
    "\n",
    "a_test['datetime']=pd.to_datetime(a_test['date'],utc=True).dt.date\n",
    "# a_test=a_test.set_index('datetime')\n",
    "a_test.drop(['date'], axis=1, inplace=True)\n",
    "a_test.head(5)"
   ]
  },
  {
   "cell_type": "code",
   "execution_count": 20,
   "metadata": {},
   "outputs": [
    {
     "data": {
      "text/plain": [
       "dtype('O')"
      ]
     },
     "execution_count": 20,
     "metadata": {},
     "output_type": "execute_result"
    }
   ],
   "source": [
    "a_test['datetime'].dtype"
   ]
  },
  {
   "cell_type": "code",
   "execution_count": 21,
   "metadata": {},
   "outputs": [],
   "source": [
    "# Convert a_test['datetime'] from 'O' to 'str'\n",
    "\n",
    "a_test['datetime']=a_test['datetime'].astype('str')"
   ]
  },
  {
   "cell_type": "code",
   "execution_count": 22,
   "metadata": {},
   "outputs": [
    {
     "data": {
      "text/html": [
       "<div>\n",
       "<style scoped>\n",
       "    .dataframe tbody tr th:only-of-type {\n",
       "        vertical-align: middle;\n",
       "    }\n",
       "\n",
       "    .dataframe tbody tr th {\n",
       "        vertical-align: top;\n",
       "    }\n",
       "\n",
       "    .dataframe thead th {\n",
       "        text-align: right;\n",
       "    }\n",
       "</style>\n",
       "<table border=\"1\" class=\"dataframe\">\n",
       "  <thead>\n",
       "    <tr style=\"text-align: right;\">\n",
       "      <th></th>\n",
       "      <th>depth</th>\n",
       "      <th>mag</th>\n",
       "      <th>datetime</th>\n",
       "    </tr>\n",
       "  </thead>\n",
       "  <tbody>\n",
       "    <tr>\n",
       "      <th>0</th>\n",
       "      <td>131.6</td>\n",
       "      <td>6.0</td>\n",
       "      <td>1965-01-02</td>\n",
       "    </tr>\n",
       "    <tr>\n",
       "      <th>1</th>\n",
       "      <td>80.0</td>\n",
       "      <td>5.8</td>\n",
       "      <td>1965-01-04</td>\n",
       "    </tr>\n",
       "    <tr>\n",
       "      <th>2</th>\n",
       "      <td>20.0</td>\n",
       "      <td>6.2</td>\n",
       "      <td>1965-01-05</td>\n",
       "    </tr>\n",
       "    <tr>\n",
       "      <th>3</th>\n",
       "      <td>15.0</td>\n",
       "      <td>5.8</td>\n",
       "      <td>1965-01-08</td>\n",
       "    </tr>\n",
       "    <tr>\n",
       "      <th>4</th>\n",
       "      <td>15.0</td>\n",
       "      <td>5.8</td>\n",
       "      <td>1965-01-09</td>\n",
       "    </tr>\n",
       "  </tbody>\n",
       "</table>\n",
       "</div>"
      ],
      "text/plain": [
       "   depth  mag    datetime\n",
       "0  131.6  6.0  1965-01-02\n",
       "1   80.0  5.8  1965-01-04\n",
       "2   20.0  6.2  1965-01-05\n",
       "3   15.0  5.8  1965-01-08\n",
       "4   15.0  5.8  1965-01-09"
      ]
     },
     "execution_count": 22,
     "metadata": {},
     "output_type": "execute_result"
    }
   ],
   "source": [
    "a_test.head(5)"
   ]
  },
  {
   "cell_type": "code",
   "execution_count": 23,
   "metadata": {
    "scrolled": true
   },
   "outputs": [
    {
     "data": {
      "text/plain": [
       "depth       float64\n",
       "mag         float64\n",
       "datetime     object\n",
       "dtype: object"
      ]
     },
     "execution_count": 23,
     "metadata": {},
     "output_type": "execute_result"
    }
   ],
   "source": [
    "a_test.dtypes"
   ]
  },
  {
   "cell_type": "code",
   "execution_count": 24,
   "metadata": {},
   "outputs": [],
   "source": [
    "# Limit df to 6 months\n",
    "\n",
    "a_test=a_test.loc[(a_test['datetime'] >= '2000-01-01') & \\\n",
    "                    (a_test['datetime'] < '2000-06-01')]"
   ]
  },
  {
   "cell_type": "markdown",
   "metadata": {},
   "source": [
    "The entire dataframe is too dense to find a pattern. A smaller 6-month chunk like this should be easier to analyze."
   ]
  },
  {
   "cell_type": "code",
   "execution_count": 25,
   "metadata": {
    "scrolled": false
   },
   "outputs": [
    {
     "data": {
      "text/plain": [
       "(169, 3)"
      ]
     },
     "execution_count": 25,
     "metadata": {},
     "output_type": "execute_result"
    }
   ],
   "source": [
    "a_test.shape"
   ]
  },
  {
   "cell_type": "code",
   "execution_count": 26,
   "metadata": {},
   "outputs": [],
   "source": [
    "# Set 'datetime' as index\n",
    "\n",
    "a_test.set_index('datetime',\n",
    "                inplace=True)"
   ]
  },
  {
   "cell_type": "code",
   "execution_count": 27,
   "metadata": {
    "scrolled": true
   },
   "outputs": [
    {
     "data": {
      "text/plain": [
       "(169, 2)"
      ]
     },
     "execution_count": 27,
     "metadata": {},
     "output_type": "execute_result"
    }
   ],
   "source": [
    "a_test.shape"
   ]
  },
  {
   "cell_type": "code",
   "execution_count": 28,
   "metadata": {
    "scrolled": true
   },
   "outputs": [
    {
     "data": {
      "text/html": [
       "<div>\n",
       "<style scoped>\n",
       "    .dataframe tbody tr th:only-of-type {\n",
       "        vertical-align: middle;\n",
       "    }\n",
       "\n",
       "    .dataframe tbody tr th {\n",
       "        vertical-align: top;\n",
       "    }\n",
       "\n",
       "    .dataframe thead th {\n",
       "        text-align: right;\n",
       "    }\n",
       "</style>\n",
       "<table border=\"1\" class=\"dataframe\">\n",
       "  <thead>\n",
       "    <tr style=\"text-align: right;\">\n",
       "      <th></th>\n",
       "      <th>depth</th>\n",
       "      <th>mag</th>\n",
       "    </tr>\n",
       "    <tr>\n",
       "      <th>datetime</th>\n",
       "      <th></th>\n",
       "      <th></th>\n",
       "    </tr>\n",
       "  </thead>\n",
       "  <tbody>\n",
       "    <tr>\n",
       "      <th>2000-01-01</th>\n",
       "      <td>10.0</td>\n",
       "      <td>6.0</td>\n",
       "    </tr>\n",
       "    <tr>\n",
       "      <th>2000-01-02</th>\n",
       "      <td>582.3</td>\n",
       "      <td>5.5</td>\n",
       "    </tr>\n",
       "    <tr>\n",
       "      <th>2000-01-02</th>\n",
       "      <td>33.0</td>\n",
       "      <td>5.8</td>\n",
       "    </tr>\n",
       "    <tr>\n",
       "      <th>2000-01-05</th>\n",
       "      <td>33.0</td>\n",
       "      <td>5.6</td>\n",
       "    </tr>\n",
       "    <tr>\n",
       "      <th>2000-01-05</th>\n",
       "      <td>33.0</td>\n",
       "      <td>6.1</td>\n",
       "    </tr>\n",
       "  </tbody>\n",
       "</table>\n",
       "</div>"
      ],
      "text/plain": [
       "            depth  mag\n",
       "datetime              \n",
       "2000-01-01   10.0  6.0\n",
       "2000-01-02  582.3  5.5\n",
       "2000-01-02   33.0  5.8\n",
       "2000-01-05   33.0  5.6\n",
       "2000-01-05   33.0  6.1"
      ]
     },
     "execution_count": 28,
     "metadata": {},
     "output_type": "execute_result"
    }
   ],
   "source": [
    "a_test.head(5)"
   ]
  },
  {
   "cell_type": "code",
   "execution_count": 29,
   "metadata": {},
   "outputs": [],
   "source": [
    "## Break 'a_test' into separate subsets: 'quake_depth' & 'quake_mag'\n",
    "\n",
    "quake_depth=a_test['depth']\n",
    "quake_mag=a_test['mag']"
   ]
  },
  {
   "cell_type": "markdown",
   "metadata": {},
   "source": [
    "## _- A) 'quake_depth'_"
   ]
  },
  {
   "cell_type": "code",
   "execution_count": 30,
   "metadata": {
    "scrolled": true
   },
   "outputs": [
    {
     "data": {
      "text/plain": [
       "datetime\n",
       "2000-01-01     10.0\n",
       "2000-01-02    582.3\n",
       "2000-01-02     33.0\n",
       "2000-01-05     33.0\n",
       "2000-01-05     33.0\n",
       "Name: depth, dtype: float64"
      ]
     },
     "execution_count": 30,
     "metadata": {},
     "output_type": "execute_result"
    }
   ],
   "source": [
    "quake_depth.head(5)"
   ]
  },
  {
   "cell_type": "code",
   "execution_count": 31,
   "metadata": {},
   "outputs": [
    {
     "data": {
      "text/plain": [
       "0"
      ]
     },
     "execution_count": 31,
     "metadata": {},
     "output_type": "execute_result"
    }
   ],
   "source": [
    "# Check for missing values\n",
    "quake_depth.isnull().sum()"
   ]
  },
  {
   "cell_type": "code",
   "execution_count": 32,
   "metadata": {},
   "outputs": [
    {
     "data": {
      "text/plain": [
       "91"
      ]
     },
     "execution_count": 32,
     "metadata": {},
     "output_type": "execute_result"
    }
   ],
   "source": [
    "# Check for duplicates\n",
    "\n",
    "dups = quake_depth.duplicated()\n",
    "dups.sum()"
   ]
  },
  {
   "cell_type": "code",
   "execution_count": 33,
   "metadata": {},
   "outputs": [],
   "source": [
    "# Expand row vibility\n",
    "\n",
    "pd.options.display.max_rows=None"
   ]
  },
  {
   "cell_type": "code",
   "execution_count": 34,
   "metadata": {},
   "outputs": [],
   "source": [
    "# View duplicates\n",
    "\n",
    "dups=quake_depth[quake_depth.duplicated()]"
   ]
  },
  {
   "cell_type": "code",
   "execution_count": 35,
   "metadata": {
    "scrolled": true
   },
   "outputs": [
    {
     "data": {
      "text/plain": [
       "datetime\n",
       "2000-01-05    33.0\n",
       "2000-01-05    33.0\n",
       "2000-01-05    33.0\n",
       "2000-01-05    10.0\n",
       "2000-01-05    33.0\n",
       "2000-01-06    33.0\n",
       "2000-01-07    10.0\n",
       "2000-01-08    33.0\n",
       "2000-01-09    10.0\n",
       "2000-01-09    33.0\n",
       "2000-01-14    33.0\n",
       "2000-01-14    33.0\n",
       "2000-01-16    33.0\n",
       "2000-01-17    33.0\n",
       "2000-01-17    33.0\n",
       "2000-01-18    33.0\n",
       "2000-01-20    33.0\n",
       "2000-01-20    33.0\n",
       "2000-01-20    10.0\n",
       "2000-01-21    33.0\n",
       "2000-01-21    10.0\n",
       "2000-01-22    10.0\n",
       "2000-01-23    10.0\n",
       "2000-01-23    33.0\n",
       "2000-01-23    33.0\n",
       "2000-01-26    33.0\n",
       "2000-01-28    10.0\n",
       "2000-02-03    33.0\n",
       "2000-02-03    10.0\n",
       "2000-02-06    33.0\n",
       "2000-02-06    33.0\n",
       "2000-02-10    10.0\n",
       "2000-02-12    33.0\n",
       "2000-02-16    33.0\n",
       "2000-02-17    33.0\n",
       "2000-02-18    10.0\n",
       "2000-02-21    33.0\n",
       "2000-02-22    33.0\n",
       "2000-02-23    33.0\n",
       "2000-02-25    33.0\n",
       "2000-02-25    33.0\n",
       "2000-02-25    33.0\n",
       "2000-02-28    33.0\n",
       "2000-02-29    10.0\n",
       "2000-02-29    33.0\n",
       "2000-03-01    20.0\n",
       "2000-03-03    10.0\n",
       "2000-03-04    10.0\n",
       "2000-03-04    33.0\n",
       "2000-03-05    10.0\n",
       "2000-03-07    10.0\n",
       "2000-03-09    33.0\n",
       "2000-03-10    33.0\n",
       "2000-03-14    10.0\n",
       "2000-03-14    10.0\n",
       "2000-03-15    10.0\n",
       "2000-03-16    10.0\n",
       "2000-03-17    10.0\n",
       "2000-03-17    10.0\n",
       "2000-03-22    10.0\n",
       "2000-03-24    10.0\n",
       "2000-03-27    33.0\n",
       "2000-03-29    10.0\n",
       "2000-04-07    10.0\n",
       "2000-04-08    33.0\n",
       "2000-04-13    33.0\n",
       "2000-04-18    10.0\n",
       "2000-04-18    33.0\n",
       "2000-04-21    33.0\n",
       "2000-04-21    33.0\n",
       "2000-04-23    10.0\n",
       "2000-04-26    33.0\n",
       "2000-04-26    33.0\n",
       "2000-04-30    10.0\n",
       "2000-04-30    10.0\n",
       "2000-05-04    33.0\n",
       "2000-05-04    33.0\n",
       "2000-05-05    33.0\n",
       "2000-05-07    33.0\n",
       "2000-05-08    33.0\n",
       "2000-05-08    10.0\n",
       "2000-05-14    33.0\n",
       "2000-05-14    33.0\n",
       "2000-05-15    10.0\n",
       "2000-05-20    10.0\n",
       "2000-05-21    10.0\n",
       "2000-05-22    10.0\n",
       "2000-05-22    33.0\n",
       "2000-05-24    33.0\n",
       "2000-05-26    33.0\n",
       "2000-05-30    10.0\n",
       "Name: depth, dtype: float64"
      ]
     },
     "execution_count": 35,
     "metadata": {},
     "output_type": "execute_result"
    }
   ],
   "source": [
    "dups"
   ]
  },
  {
   "cell_type": "code",
   "execution_count": 36,
   "metadata": {},
   "outputs": [
    {
     "data": {
      "text/plain": [
       "(169,)"
      ]
     },
     "execution_count": 36,
     "metadata": {},
     "output_type": "execute_result"
    }
   ],
   "source": [
    "quake_depth.shape"
   ]
  },
  {
   "cell_type": "code",
   "execution_count": 37,
   "metadata": {},
   "outputs": [],
   "source": [
    "quake_depth=quake_depth.drop_duplicates() # Remove duplicates"
   ]
  },
  {
   "cell_type": "code",
   "execution_count": 38,
   "metadata": {},
   "outputs": [
    {
     "data": {
      "text/plain": [
       "(78,)"
      ]
     },
     "execution_count": 38,
     "metadata": {},
     "output_type": "execute_result"
    }
   ],
   "source": [
    "quake_depth.shape"
   ]
  },
  {
   "cell_type": "code",
   "execution_count": 39,
   "metadata": {
    "scrolled": true
   },
   "outputs": [
    {
     "data": {
      "text/plain": [
       "[<matplotlib.lines.Line2D at 0x7f819c665d90>]"
      ]
     },
     "execution_count": 39,
     "metadata": {},
     "output_type": "execute_result"
    },
    {
     "data": {
      "image/png": "[encoded data removed]",
      "text/plain": [
       "<Figure size 1500x500 with 1 Axes>"
      ]
     },
     "metadata": {
      "needs_background": "light"
     },
     "output_type": "display_data"
    }
   ],
   "source": [
    "# What does 'quake_depth' look like?\n",
    "\n",
    "plt.figure(figsize=(15,5), dpi=100) \n",
    "\n",
    "plt.plot(quake_depth)"
   ]
  },
  {
   "cell_type": "markdown",
   "metadata": {},
   "source": [
    "## _- B) 'quake_mag'_"
   ]
  },
  {
   "cell_type": "code",
   "execution_count": 40,
   "metadata": {
    "scrolled": true
   },
   "outputs": [
    {
     "data": {
      "text/plain": [
       "datetime\n",
       "2000-01-01    6.0\n",
       "2000-01-02    5.5\n",
       "2000-01-02    5.8\n",
       "2000-01-05    5.6\n",
       "2000-01-05    6.1\n",
       "Name: mag, dtype: float64"
      ]
     },
     "execution_count": 40,
     "metadata": {},
     "output_type": "execute_result"
    }
   ],
   "source": [
    "quake_mag.head(5)"
   ]
  },
  {
   "cell_type": "code",
   "execution_count": 41,
   "metadata": {},
   "outputs": [
    {
     "data": {
      "text/plain": [
       "0"
      ]
     },
     "execution_count": 41,
     "metadata": {},
     "output_type": "execute_result"
    }
   ],
   "source": [
    "# Check for missing values\n",
    "\n",
    "quake_mag.isnull().sum()"
   ]
  },
  {
   "cell_type": "code",
   "execution_count": 42,
   "metadata": {},
   "outputs": [
    {
     "data": {
      "text/plain": [
       "152"
      ]
     },
     "execution_count": 42,
     "metadata": {},
     "output_type": "execute_result"
    }
   ],
   "source": [
    "# Check for duplicates\n",
    "\n",
    "dups = quake_mag.duplicated()\n",
    "dups.sum()"
   ]
  },
  {
   "cell_type": "code",
   "execution_count": 43,
   "metadata": {},
   "outputs": [],
   "source": [
    "# View duplicates\n",
    "\n",
    "dups=quake_mag[quake_mag.duplicated()]"
   ]
  },
  {
   "cell_type": "code",
   "execution_count": 44,
   "metadata": {
    "scrolled": true
   },
   "outputs": [
    {
     "data": {
      "text/plain": [
       "datetime\n",
       "2000-01-05    5.5\n",
       "2000-01-05    5.6\n",
       "2000-01-05    5.8\n",
       "2000-01-06    6.1\n",
       "2000-01-07    5.5\n",
       "2000-01-08    5.6\n",
       "2000-01-08    6.4\n",
       "2000-01-09    5.5\n",
       "2000-01-13    6.2\n",
       "2000-01-14    5.5\n",
       "2000-01-15    5.8\n",
       "2000-01-15    6.0\n",
       "2000-01-16    5.9\n",
       "2000-01-16    5.7\n",
       "2000-01-17    5.8\n",
       "2000-01-17    5.6\n",
       "2000-01-18    5.5\n",
       "2000-01-19    6.0\n",
       "2000-01-20    5.8\n",
       "2000-01-20    5.5\n",
       "2000-01-20    5.8\n",
       "2000-01-20    6.1\n",
       "2000-01-21    5.7\n",
       "2000-01-21    5.8\n",
       "2000-01-22    5.5\n",
       "2000-01-23    5.8\n",
       "2000-01-23    5.5\n",
       "2000-01-23    5.6\n",
       "2000-01-23    5.5\n",
       "2000-01-23    5.8\n",
       "2000-01-23    5.5\n",
       "2000-01-28    5.5\n",
       "2000-01-28    6.0\n",
       "2000-01-28    5.5\n",
       "2000-01-28    5.6\n",
       "2000-02-03    5.7\n",
       "2000-02-03    5.5\n",
       "2000-02-03    5.5\n",
       "2000-02-06    5.5\n",
       "2000-02-10    5.5\n",
       "2000-02-10    5.6\n",
       "2000-02-12    5.9\n",
       "2000-02-12    5.9\n",
       "2000-02-13    6.0\n",
       "2000-02-13    5.7\n",
       "2000-02-15    5.9\n",
       "2000-02-16    5.7\n",
       "2000-02-17    5.9\n",
       "2000-02-18    5.6\n",
       "2000-02-20    5.7\n",
       "2000-02-21    5.7\n",
       "2000-02-21    5.7\n",
       "2000-02-22    5.5\n",
       "2000-02-23    5.6\n",
       "2000-02-23    5.5\n",
       "2000-02-25    5.6\n",
       "2000-02-25    5.5\n",
       "2000-02-26    6.2\n",
       "2000-02-26    6.1\n",
       "2000-02-28    5.7\n",
       "2000-02-28    6.0\n",
       "2000-02-29    6.0\n",
       "2000-02-29    6.0\n",
       "2000-03-01    5.8\n",
       "2000-03-01    5.6\n",
       "2000-03-01    5.5\n",
       "2000-03-03    6.4\n",
       "2000-03-03    6.6\n",
       "2000-03-04    6.4\n",
       "2000-03-04    5.9\n",
       "2000-03-05    6.1\n",
       "2000-03-07    5.5\n",
       "2000-03-09    5.5\n",
       "2000-03-10    5.5\n",
       "2000-03-12    6.3\n",
       "2000-03-14    5.7\n",
       "2000-03-14    5.6\n",
       "2000-03-15    5.9\n",
       "2000-03-16    5.5\n",
       "2000-03-16    5.7\n",
       "2000-03-17    5.6\n",
       "2000-03-17    5.5\n",
       "2000-03-18    5.5\n",
       "2000-03-20    5.5\n",
       "2000-03-21    5.9\n",
       "2000-03-22    5.7\n",
       "2000-03-22    5.5\n",
       "2000-03-24    5.6\n",
       "2000-03-27    5.6\n",
       "2000-03-29    5.8\n",
       "2000-04-01    5.6\n",
       "2000-04-01    5.7\n",
       "2000-04-02    5.6\n",
       "2000-04-03    5.5\n",
       "2000-04-03    6.2\n",
       "2000-04-05    5.5\n",
       "2000-04-07    5.5\n",
       "2000-04-07    5.7\n",
       "2000-04-07    6.3\n",
       "2000-04-08    5.6\n",
       "2000-04-11    5.8\n",
       "2000-04-11    5.7\n",
       "2000-04-13    5.9\n",
       "2000-04-16    5.6\n",
       "2000-04-17    5.6\n",
       "2000-04-17    5.5\n",
       "2000-04-17    5.5\n",
       "2000-04-18    5.8\n",
       "2000-04-18    5.7\n",
       "2000-04-18    6.0\n",
       "2000-04-21    6.0\n",
       "2000-04-21    5.5\n",
       "2000-04-21    5.5\n",
       "2000-04-23    6.1\n",
       "2000-04-23    5.6\n",
       "2000-04-23    5.6\n",
       "2000-04-26    5.6\n",
       "2000-04-26    5.5\n",
       "2000-04-29    5.7\n",
       "2000-04-30    5.5\n",
       "2000-04-30    5.9\n",
       "2000-05-01    5.6\n",
       "2000-05-02    5.5\n",
       "2000-05-02    6.0\n",
       "2000-05-04    7.6\n",
       "2000-05-04    5.6\n",
       "2000-05-04    6.5\n",
       "2000-05-04    5.5\n",
       "2000-05-05    5.7\n",
       "2000-05-06    6.3\n",
       "2000-05-07    5.7\n",
       "2000-05-07    5.6\n",
       "2000-05-08    5.6\n",
       "2000-05-08    6.1\n",
       "2000-05-08    5.7\n",
       "2000-05-08    5.5\n",
       "2000-05-08    5.6\n",
       "2000-05-12    7.2\n",
       "2000-05-12    6.3\n",
       "2000-05-14    5.6\n",
       "2000-05-14    6.3\n",
       "2000-05-15    5.5\n",
       "2000-05-19    5.9\n",
       "2000-05-20    5.5\n",
       "2000-05-20    5.6\n",
       "2000-05-21    6.0\n",
       "2000-05-22    5.9\n",
       "2000-05-22    5.8\n",
       "2000-05-24    5.7\n",
       "2000-05-26    6.0\n",
       "2000-05-26    5.6\n",
       "2000-05-30    5.9\n",
       "Name: mag, dtype: float64"
      ]
     },
     "execution_count": 44,
     "metadata": {},
     "output_type": "execute_result"
    }
   ],
   "source": [
    "dups"
   ]
  },
  {
   "cell_type": "code",
   "execution_count": 45,
   "metadata": {},
   "outputs": [
    {
     "data": {
      "text/plain": [
       "(169,)"
      ]
     },
     "execution_count": 45,
     "metadata": {},
     "output_type": "execute_result"
    }
   ],
   "source": [
    "quake_mag.shape"
   ]
  },
  {
   "cell_type": "code",
   "execution_count": 46,
   "metadata": {},
   "outputs": [],
   "source": [
    "quake_mag=quake_mag.drop_duplicates() # Remove duplicates"
   ]
  },
  {
   "cell_type": "code",
   "execution_count": 47,
   "metadata": {},
   "outputs": [
    {
     "data": {
      "text/plain": [
       "(17,)"
      ]
     },
     "execution_count": 47,
     "metadata": {},
     "output_type": "execute_result"
    }
   ],
   "source": [
    "quake_mag.shape"
   ]
  },
  {
   "cell_type": "code",
   "execution_count": 48,
   "metadata": {},
   "outputs": [
    {
     "data": {
      "text/plain": [
       "[<matplotlib.lines.Line2D at 0x7f819cbc3790>]"
      ]
     },
     "execution_count": 48,
     "metadata": {},
     "output_type": "execute_result"
    },
    {
     "data": {
      "image/png": "[encoded data removed]",
      "text/plain": [
       "<Figure size 1500x500 with 1 Axes>"
      ]
     },
     "metadata": {
      "needs_background": "light"
     },
     "output_type": "display_data"
    }
   ],
   "source": [
    "# What does 'quake_mag' look like?\n",
    "\n",
    "plt.figure(figsize=(15,5), dpi=100) \n",
    "\n",
    "plt.plot(quake_mag)"
   ]
  },
  {
   "cell_type": "markdown",
   "metadata": {},
   "source": [
    "# 2) Decomposition"
   ]
  },
  {
   "cell_type": "markdown",
   "metadata": {},
   "source": [
    "I'll start by looking at 'quake_depth'"
   ]
  },
  {
   "cell_type": "code",
   "execution_count": 87,
   "metadata": {},
   "outputs": [
    {
     "data": {
      "text/plain": [
       "[<matplotlib.lines.Line2D at 0x7f819d5529a0>]"
      ]
     },
     "execution_count": 87,
     "metadata": {},
     "output_type": "execute_result"
    },
    {
     "data": {
      "image/png": "[encoded data removed]",
      "text/plain": [
       "<Figure size 1500x200 with 1 Axes>"
      ]
     },
     "metadata": {
      "needs_background": "light"
     },
     "output_type": "display_data"
    }
   ],
   "source": [
    "plt.figure(figsize=(15,2), dpi=100) \n",
    "\n",
    "plt.plot(quake_depth)"
   ]
  },
  {
   "cell_type": "code",
   "execution_count": 88,
   "metadata": {},
   "outputs": [],
   "source": [
    "depth_decomp=sm.tsa.seasonal_decompose(quake_depth,\n",
    "                                      model='additive',\n",
    "                                      period=6)"
   ]
  },
  {
   "cell_type": "code",
   "execution_count": 89,
   "metadata": {},
   "outputs": [],
   "source": [
    "from pylab import rcParams\n",
    "\n",
    "rcParams['figure.figsize'] = 18, 10"
   ]
  },
  {
   "cell_type": "code",
   "execution_count": 90,
   "metadata": {},
   "outputs": [
    {
     "data": {
      "image/png": "[encoded data removed]",
      "text/plain": [
       "<Figure size 1296x720 with 4 Axes>"
      ]
     },
     "metadata": {
      "needs_background": "light"
     },
     "output_type": "display_data"
    }
   ],
   "source": [
    "depth_decomp.plot()\n",
    "plt.show()"
   ]
  },
  {
   "cell_type": "markdown",
   "metadata": {},
   "source": [
    "# 3) Identify Components of Time Series"
   ]
  },
  {
   "cell_type": "markdown",
   "metadata": {},
   "source": [
    "## _- A) Trend_"
   ]
  },
  {
   "cell_type": "markdown",
   "metadata": {},
   "source": [
    "No trend, appears stationary"
   ]
  },
  {
   "cell_type": "markdown",
   "metadata": {},
   "source": [
    "## _- B) Seasonality_"
   ]
  },
  {
   "cell_type": "markdown",
   "metadata": {},
   "source": [
    "It appears to form a regular seasonal pattern. Low depth, intermediate depth, then low depth. The pattern repeats. Whenever there's a deep earthquake, there's a shallow one almost immediately."
   ]
  },
  {
   "cell_type": "markdown",
   "metadata": {},
   "source": [
    "## _- C) Cycle_"
   ]
  },
  {
   "cell_type": "markdown",
   "metadata": {},
   "source": [
    "I would want to see more of a trend to identify a cycle."
   ]
  },
  {
   "cell_type": "markdown",
   "metadata": {},
   "source": [
    "## _- D) Noise_"
   ]
  },
  {
   "cell_type": "markdown",
   "metadata": {},
   "source": [
    "Most of the entries are noisy!"
   ]
  },
  {
   "cell_type": "markdown",
   "metadata": {},
   "source": [
    "# 4) Analyze Stationarity"
   ]
  },
  {
   "cell_type": "code",
   "execution_count": 94,
   "metadata": {},
   "outputs": [
    {
     "name": "stdout",
     "output_type": "stream",
     "text": [
      "Dickey-Fuller Stationarity test:\n",
      "Test Statistic                -8.391630e+00\n",
      "p-value                        2.358114e-13\n",
      "Number of Lags Used            0.000000e+00\n",
      "Number of Observations Used    7.700000e+01\n",
      "Critical Value (1%)           -3.518281e+00\n",
      "Critical Value (5%)           -2.899878e+00\n",
      "Critical Value (10%)          -2.587223e+00\n",
      "dtype: float64\n"
     ]
    }
   ],
   "source": [
    "from statsmodels.tsa.stattools import adfuller\n",
    "\n",
    "def dickey_fuller(timeseries):\n",
    "    print ('Dickey-Fuller Stationarity test:')\n",
    "    test = adfuller(timeseries, autolag='AIC')\n",
    "    result = pd.Series(test[0:4], index=['Test Statistic','p-value','Number of Lags Used','Number of Observations Used'])\n",
    "    for key,value in test[4].items():\n",
    "       result['Critical Value (%s)'%key] = value\n",
    "    print (result)\n",
    "\n",
    "dickey_fuller(quake_depth)"
   ]
  },
  {
   "cell_type": "markdown",
   "metadata": {},
   "source": [
    "__Notes__\n",
    "\n",
    "The test statistic (-8.39) is less than the critical value (-2.89), disproving the existence of unit root. I can successfully rule out my null hypothesis and confirm that my data is stationary. \n",
    "\n",
    "- unit root - 'a stochastic trend in a time series, sometimes called a “random walk with drift”; If a time series has a unit root, it shows a systematic pattern that is unpredictable.' -[statistichowto.com](https://www.statisticshowto.com/unit-root/)"
   ]
  },
  {
   "cell_type": "markdown",
   "metadata": {},
   "source": [
    "# 5) Autocorrelation"
   ]
  },
  {
   "cell_type": "code",
   "execution_count": 95,
   "metadata": {},
   "outputs": [
    {
     "data": {
      "image/png": "[encoded data removed]",
      "text/plain": [
       "<Figure size 1296x720 with 1 Axes>"
      ]
     },
     "metadata": {
      "needs_background": "light"
     },
     "output_type": "display_data"
    }
   ],
   "source": [
    "# Import the autocorrelation and partial correlation plots\n",
    "from statsmodels.graphics.tsaplots import plot_acf, plot_pacf \n",
    "\n",
    "plot_acf(quake_depth)\n",
    "plt.show()"
   ]
  },
  {
   "cell_type": "markdown",
   "metadata": {},
   "source": [
    "__Notes__\n",
    "\n",
    "In the chart above, the vertical lines are confined within the shaded blue area. Double confimation that the data is stationary."
   ]
  }
 ],
 "metadata": {
  "kernelspec": {
   "display_name": "Python 3",
   "language": "python",
   "name": "python3"
  },
  "language_info": {
   "codemirror_mode": {
    "name": "ipython",
    "version": 3
   },
   "file_extension": ".py",
   "mimetype": "text/x-python",
   "name": "python",
   "nbconvert_exporter": "python",
   "pygments_lexer": "ipython3",
   "version": "3.8.3"
  }
 },
 "nbformat": 4,
 "nbformat_minor": 4
}
